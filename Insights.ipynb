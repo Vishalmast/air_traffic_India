{
 "cells": [
  {
   "cell_type": "code",
   "execution_count": 1,
   "metadata": {},
   "outputs": [],
   "source": [
    "import numpy as np\n",
    "import pandas as pd\n",
    "import matplotlib.pyplot as plt\n",
    "import seaborn as sns"
   ]
  },
  {
   "cell_type": "code",
   "execution_count": 177,
   "metadata": {},
   "outputs": [
    {
     "name": "stderr",
     "output_type": "stream",
     "text": [
      "b'Skipping line 1850: expected 9 fields, saw 10\\nSkipping line 1851: expected 9 fields, saw 10\\nSkipping line 1852: expected 9 fields, saw 10\\nSkipping line 1853: expected 9 fields, saw 10\\nSkipping line 1854: expected 9 fields, saw 10\\nSkipping line 1855: expected 9 fields, saw 10\\nSkipping line 1856: expected 9 fields, saw 10\\nSkipping line 1857: expected 9 fields, saw 10\\nSkipping line 1858: expected 9 fields, saw 10\\nSkipping line 1859: expected 9 fields, saw 10\\nSkipping line 1860: expected 9 fields, saw 10\\nSkipping line 1861: expected 9 fields, saw 10\\nSkipping line 1862: expected 9 fields, saw 10\\nSkipping line 1863: expected 9 fields, saw 10\\nSkipping line 1864: expected 9 fields, saw 10\\nSkipping line 1865: expected 9 fields, saw 10\\nSkipping line 1866: expected 9 fields, saw 10\\nSkipping line 1867: expected 9 fields, saw 10\\nSkipping line 1868: expected 9 fields, saw 10\\nSkipping line 1869: expected 9 fields, saw 10\\nSkipping line 1870: expected 9 fields, saw 10\\nSkipping line 1871: expected 9 fields, saw 10\\nSkipping line 1872: expected 9 fields, saw 10\\nSkipping line 1873: expected 9 fields, saw 10\\nSkipping line 1874: expected 9 fields, saw 10\\nSkipping line 1875: expected 9 fields, saw 10\\nSkipping line 1876: expected 9 fields, saw 10\\nSkipping line 1877: expected 9 fields, saw 10\\nSkipping line 1878: expected 9 fields, saw 10\\nSkipping line 1879: expected 9 fields, saw 10\\nSkipping line 1880: expected 9 fields, saw 10\\nSkipping line 1881: expected 9 fields, saw 10\\nSkipping line 1882: expected 9 fields, saw 10\\nSkipping line 1883: expected 9 fields, saw 10\\nSkipping line 1884: expected 9 fields, saw 10\\nSkipping line 1885: expected 9 fields, saw 10\\nSkipping line 1886: expected 9 fields, saw 10\\nSkipping line 1887: expected 9 fields, saw 10\\nSkipping line 1888: expected 9 fields, saw 10\\nSkipping line 1889: expected 9 fields, saw 10\\nSkipping line 1890: expected 9 fields, saw 10\\nSkipping line 1891: expected 9 fields, saw 10\\nSkipping line 1892: expected 9 fields, saw 10\\nSkipping line 1893: expected 9 fields, saw 10\\nSkipping line 1894: expected 9 fields, saw 10\\nSkipping line 1895: expected 9 fields, saw 10\\nSkipping line 1896: expected 9 fields, saw 10\\nSkipping line 1897: expected 9 fields, saw 10\\nSkipping line 1898: expected 9 fields, saw 10\\nSkipping line 1899: expected 9 fields, saw 10\\nSkipping line 1900: expected 9 fields, saw 10\\nSkipping line 1901: expected 9 fields, saw 10\\nSkipping line 1902: expected 9 fields, saw 10\\nSkipping line 1903: expected 9 fields, saw 10\\nSkipping line 1904: expected 9 fields, saw 10\\nSkipping line 1905: expected 9 fields, saw 10\\nSkipping line 1906: expected 9 fields, saw 10\\nSkipping line 1907: expected 9 fields, saw 10\\nSkipping line 1908: expected 9 fields, saw 10\\nSkipping line 1909: expected 9 fields, saw 10\\nSkipping line 1910: expected 9 fields, saw 10\\nSkipping line 1911: expected 9 fields, saw 10\\nSkipping line 1912: expected 9 fields, saw 10\\nSkipping line 1913: expected 9 fields, saw 10\\nSkipping line 1914: expected 9 fields, saw 10\\nSkipping line 1915: expected 9 fields, saw 10\\nSkipping line 1916: expected 9 fields, saw 10\\nSkipping line 1917: expected 9 fields, saw 10\\nSkipping line 1918: expected 9 fields, saw 10\\nSkipping line 1919: expected 9 fields, saw 10\\nSkipping line 1920: expected 9 fields, saw 10\\nSkipping line 1921: expected 9 fields, saw 10\\nSkipping line 1922: expected 9 fields, saw 10\\nSkipping line 1923: expected 9 fields, saw 10\\nSkipping line 1924: expected 9 fields, saw 10\\nSkipping line 1925: expected 9 fields, saw 10\\nSkipping line 1926: expected 9 fields, saw 10\\nSkipping line 1927: expected 9 fields, saw 10\\nSkipping line 1928: expected 9 fields, saw 10\\nSkipping line 1929: expected 9 fields, saw 10\\nSkipping line 1930: expected 9 fields, saw 10\\nSkipping line 1931: expected 9 fields, saw 10\\nSkipping line 1932: expected 9 fields, saw 10\\nSkipping line 1933: expected 9 fields, saw 10\\nSkipping line 1934: expected 9 fields, saw 10\\nSkipping line 1935: expected 9 fields, saw 10\\nSkipping line 1936: expected 9 fields, saw 10\\nSkipping line 1937: expected 9 fields, saw 10\\nSkipping line 1938: expected 9 fields, saw 10\\nSkipping line 1939: expected 9 fields, saw 10\\nSkipping line 1940: expected 9 fields, saw 10\\nSkipping line 1941: expected 9 fields, saw 10\\nSkipping line 1942: expected 9 fields, saw 10\\nSkipping line 1943: expected 9 fields, saw 10\\nSkipping line 1944: expected 9 fields, saw 10\\nSkipping line 1945: expected 9 fields, saw 10\\nSkipping line 1946: expected 9 fields, saw 10\\nSkipping line 1947: expected 9 fields, saw 10\\nSkipping line 1948: expected 9 fields, saw 10\\nSkipping line 1949: expected 9 fields, saw 10\\nSkipping line 1950: expected 9 fields, saw 10\\nSkipping line 1951: expected 9 fields, saw 10\\nSkipping line 1952: expected 9 fields, saw 10\\nSkipping line 1953: expected 9 fields, saw 10\\nSkipping line 1954: expected 9 fields, saw 10\\nSkipping line 1955: expected 9 fields, saw 10\\nSkipping line 1956: expected 9 fields, saw 10\\nSkipping line 1957: expected 9 fields, saw 10\\nSkipping line 1958: expected 9 fields, saw 10\\nSkipping line 1959: expected 9 fields, saw 10\\nSkipping line 1960: expected 9 fields, saw 10\\nSkipping line 1961: expected 9 fields, saw 10\\nSkipping line 1962: expected 9 fields, saw 10\\nSkipping line 1963: expected 9 fields, saw 10\\nSkipping line 1964: expected 9 fields, saw 10\\nSkipping line 1965: expected 9 fields, saw 10\\nSkipping line 1966: expected 9 fields, saw 10\\nSkipping line 1967: expected 9 fields, saw 10\\nSkipping line 1968: expected 9 fields, saw 10\\nSkipping line 1969: expected 9 fields, saw 10\\nSkipping line 1970: expected 9 fields, saw 10\\nSkipping line 1971: expected 9 fields, saw 10\\nSkipping line 1972: expected 9 fields, saw 10\\nSkipping line 1973: expected 9 fields, saw 10\\nSkipping line 1974: expected 9 fields, saw 10\\nSkipping line 1975: expected 9 fields, saw 10\\nSkipping line 1976: expected 9 fields, saw 10\\nSkipping line 1977: expected 9 fields, saw 10\\nSkipping line 1978: expected 9 fields, saw 10\\nSkipping line 1979: expected 9 fields, saw 10\\nSkipping line 1980: expected 9 fields, saw 10\\nSkipping line 1981: expected 9 fields, saw 10\\nSkipping line 1982: expected 9 fields, saw 10\\nSkipping line 1983: expected 9 fields, saw 10\\nSkipping line 1984: expected 9 fields, saw 10\\nSkipping line 1985: expected 9 fields, saw 10\\nSkipping line 1986: expected 9 fields, saw 10\\nSkipping line 1987: expected 9 fields, saw 10\\nSkipping line 1988: expected 9 fields, saw 10\\nSkipping line 1989: expected 9 fields, saw 10\\nSkipping line 1990: expected 9 fields, saw 10\\nSkipping line 1991: expected 9 fields, saw 10\\nSkipping line 1992: expected 9 fields, saw 10\\nSkipping line 1993: expected 9 fields, saw 10\\nSkipping line 1994: expected 9 fields, saw 10\\nSkipping line 1995: expected 9 fields, saw 10\\nSkipping line 1996: expected 9 fields, saw 10\\nSkipping line 1997: expected 9 fields, saw 10\\nSkipping line 1998: expected 9 fields, saw 10\\nSkipping line 1999: expected 9 fields, saw 10\\nSkipping line 2000: expected 9 fields, saw 10\\nSkipping line 2001: expected 9 fields, saw 10\\nSkipping line 2002: expected 9 fields, saw 10\\nSkipping line 2003: expected 9 fields, saw 10\\nSkipping line 2004: expected 9 fields, saw 10\\nSkipping line 2005: expected 9 fields, saw 10\\nSkipping line 2006: expected 9 fields, saw 10\\nSkipping line 2007: expected 9 fields, saw 10\\nSkipping line 2008: expected 9 fields, saw 10\\nSkipping line 2009: expected 9 fields, saw 10\\nSkipping line 2010: expected 9 fields, saw 10\\nSkipping line 2011: expected 9 fields, saw 10\\nSkipping line 2012: expected 9 fields, saw 10\\nSkipping line 2013: expected 9 fields, saw 10\\nSkipping line 2014: expected 9 fields, saw 10\\nSkipping line 2015: expected 9 fields, saw 10\\nSkipping line 2016: expected 9 fields, saw 10\\nSkipping line 2017: expected 9 fields, saw 10\\nSkipping line 2018: expected 9 fields, saw 10\\nSkipping line 2019: expected 9 fields, saw 10\\nSkipping line 2020: expected 9 fields, saw 10\\nSkipping line 2021: expected 9 fields, saw 10\\nSkipping line 2022: expected 9 fields, saw 10\\nSkipping line 2023: expected 9 fields, saw 10\\nSkipping line 2024: expected 9 fields, saw 10\\nSkipping line 2025: expected 9 fields, saw 10\\nSkipping line 2026: expected 9 fields, saw 10\\nSkipping line 2027: expected 9 fields, saw 10\\nSkipping line 2028: expected 9 fields, saw 10\\nSkipping line 2029: expected 9 fields, saw 10\\nSkipping line 2030: expected 9 fields, saw 10\\nSkipping line 2031: expected 9 fields, saw 10\\nSkipping line 2032: expected 9 fields, saw 10\\nSkipping line 2033: expected 9 fields, saw 10\\nSkipping line 2034: expected 9 fields, saw 10\\nSkipping line 2035: expected 9 fields, saw 10\\nSkipping line 2036: expected 9 fields, saw 10\\nSkipping line 2037: expected 9 fields, saw 10\\nSkipping line 2038: expected 9 fields, saw 10\\nSkipping line 2039: expected 9 fields, saw 10\\nSkipping line 2040: expected 9 fields, saw 10\\nSkipping line 2041: expected 9 fields, saw 10\\nSkipping line 2042: expected 9 fields, saw 10\\nSkipping line 2043: expected 9 fields, saw 10\\nSkipping line 2044: expected 9 fields, saw 10\\nSkipping line 2045: expected 9 fields, saw 10\\nSkipping line 2046: expected 9 fields, saw 10\\nSkipping line 2047: expected 9 fields, saw 10\\nSkipping line 2048: expected 9 fields, saw 10\\nSkipping line 2049: expected 9 fields, saw 10\\nSkipping line 2050: expected 9 fields, saw 10\\nSkipping line 2051: expected 9 fields, saw 10\\nSkipping line 2052: expected 9 fields, saw 10\\nSkipping line 2053: expected 9 fields, saw 10\\nSkipping line 2054: expected 9 fields, saw 10\\nSkipping line 2055: expected 9 fields, saw 10\\nSkipping line 2056: expected 9 fields, saw 10\\nSkipping line 2057: expected 9 fields, saw 10\\nSkipping line 2058: expected 9 fields, saw 10\\nSkipping line 2059: expected 9 fields, saw 10\\nSkipping line 2060: expected 9 fields, saw 10\\nSkipping line 2061: expected 9 fields, saw 10\\nSkipping line 2062: expected 9 fields, saw 10\\nSkipping line 2063: expected 9 fields, saw 10\\nSkipping line 2064: expected 9 fields, saw 10\\nSkipping line 2065: expected 9 fields, saw 10\\nSkipping line 2066: expected 9 fields, saw 10\\nSkipping line 2067: expected 9 fields, saw 10\\nSkipping line 2068: expected 9 fields, saw 10\\nSkipping line 2069: expected 9 fields, saw 10\\nSkipping line 2070: expected 9 fields, saw 10\\nSkipping line 2071: expected 9 fields, saw 10\\nSkipping line 2072: expected 9 fields, saw 10\\nSkipping line 2073: expected 9 fields, saw 10\\nSkipping line 2074: expected 9 fields, saw 10\\nSkipping line 2075: expected 9 fields, saw 10\\nSkipping line 2076: expected 9 fields, saw 10\\nSkipping line 2077: expected 9 fields, saw 10\\nSkipping line 2078: expected 9 fields, saw 10\\nSkipping line 2079: expected 9 fields, saw 10\\nSkipping line 2080: expected 9 fields, saw 10\\nSkipping line 2081: expected 9 fields, saw 10\\nSkipping line 2082: expected 9 fields, saw 10\\nSkipping line 2083: expected 9 fields, saw 10\\nSkipping line 2084: expected 9 fields, saw 10\\nSkipping line 2085: expected 9 fields, saw 10\\nSkipping line 2086: expected 9 fields, saw 10\\nSkipping line 2087: expected 9 fields, saw 10\\nSkipping line 2088: expected 9 fields, saw 10\\nSkipping line 2089: expected 9 fields, saw 10\\nSkipping line 2090: expected 9 fields, saw 10\\nSkipping line 2091: expected 9 fields, saw 10\\nSkipping line 2092: expected 9 fields, saw 10\\nSkipping line 2093: expected 9 fields, saw 10\\nSkipping line 2094: expected 9 fields, saw 10\\nSkipping line 2095: expected 9 fields, saw 10\\nSkipping line 2096: expected 9 fields, saw 10\\nSkipping line 2097: expected 9 fields, saw 10\\nSkipping line 2098: expected 9 fields, saw 10\\nSkipping line 2099: expected 9 fields, saw 10\\nSkipping line 2100: expected 9 fields, saw 10\\nSkipping line 2101: expected 9 fields, saw 10\\nSkipping line 2102: expected 9 fields, saw 10\\nSkipping line 2103: expected 9 fields, saw 10\\nSkipping line 2104: expected 9 fields, saw 10\\nSkipping line 2105: expected 9 fields, saw 10\\nSkipping line 2106: expected 9 fields, saw 10\\nSkipping line 2107: expected 9 fields, saw 10\\nSkipping line 2108: expected 9 fields, saw 10\\nSkipping line 2109: expected 9 fields, saw 10\\nSkipping line 2110: expected 9 fields, saw 10\\nSkipping line 2111: expected 9 fields, saw 10\\nSkipping line 2112: expected 9 fields, saw 10\\nSkipping line 2113: expected 9 fields, saw 10\\nSkipping line 2114: expected 9 fields, saw 10\\nSkipping line 2115: expected 9 fields, saw 10\\nSkipping line 2116: expected 9 fields, saw 10\\nSkipping line 2117: expected 9 fields, saw 10\\nSkipping line 2118: expected 9 fields, saw 10\\nSkipping line 2119: expected 9 fields, saw 10\\nSkipping line 2120: expected 9 fields, saw 10\\nSkipping line 2121: expected 9 fields, saw 10\\nSkipping line 2122: expected 9 fields, saw 10\\nSkipping line 2123: expected 9 fields, saw 10\\nSkipping line 2124: expected 9 fields, saw 10\\nSkipping line 2125: expected 9 fields, saw 10\\nSkipping line 2126: expected 9 fields, saw 10\\nSkipping line 2127: expected 9 fields, saw 10\\nSkipping line 2128: expected 9 fields, saw 10\\nSkipping line 2129: expected 9 fields, saw 10\\nSkipping line 2130: expected 9 fields, saw 10\\nSkipping line 2131: expected 9 fields, saw 10\\nSkipping line 2132: expected 9 fields, saw 10\\nSkipping line 2133: expected 9 fields, saw 10\\nSkipping line 2134: expected 9 fields, saw 10\\nSkipping line 2135: expected 9 fields, saw 10\\nSkipping line 2136: expected 9 fields, saw 10\\nSkipping line 2137: expected 9 fields, saw 10\\nSkipping line 2138: expected 9 fields, saw 10\\nSkipping line 2139: expected 9 fields, saw 10\\nSkipping line 2140: expected 9 fields, saw 10\\nSkipping line 2141: expected 9 fields, saw 10\\nSkipping line 2142: expected 9 fields, saw 10\\nSkipping line 2143: expected 9 fields, saw 10\\nSkipping line 2144: expected 9 fields, saw 10\\nSkipping line 2145: expected 9 fields, saw 10\\nSkipping line 2146: expected 9 fields, saw 10\\nSkipping line 2147: expected 9 fields, saw 10\\nSkipping line 2148: expected 9 fields, saw 10\\nSkipping line 2149: expected 9 fields, saw 10\\nSkipping line 2150: expected 9 fields, saw 10\\nSkipping line 2151: expected 9 fields, saw 10\\nSkipping line 2152: expected 9 fields, saw 10\\nSkipping line 2153: expected 9 fields, saw 10\\nSkipping line 2154: expected 9 fields, saw 10\\nSkipping line 2155: expected 9 fields, saw 10\\nSkipping line 2156: expected 9 fields, saw 10\\nSkipping line 2157: expected 9 fields, saw 10\\nSkipping line 2158: expected 9 fields, saw 10\\nSkipping line 2159: expected 9 fields, saw 10\\nSkipping line 2160: expected 9 fields, saw 10\\nSkipping line 2161: expected 9 fields, saw 10\\nSkipping line 2162: expected 9 fields, saw 10\\nSkipping line 2163: expected 9 fields, saw 10\\nSkipping line 2164: expected 9 fields, saw 10\\nSkipping line 2165: expected 9 fields, saw 10\\nSkipping line 2166: expected 9 fields, saw 10\\nSkipping line 2167: expected 9 fields, saw 10\\nSkipping line 2168: expected 9 fields, saw 10\\nSkipping line 2169: expected 9 fields, saw 10\\nSkipping line 2170: expected 9 fields, saw 10\\nSkipping line 2171: expected 9 fields, saw 10\\nSkipping line 2172: expected 9 fields, saw 10\\nSkipping line 2173: expected 9 fields, saw 10\\nSkipping line 2174: expected 9 fields, saw 10\\nSkipping line 2175: expected 9 fields, saw 10\\nSkipping line 2176: expected 9 fields, saw 10\\nSkipping line 2177: expected 9 fields, saw 10\\nSkipping line 2178: expected 9 fields, saw 10\\nSkipping line 2179: expected 9 fields, saw 10\\nSkipping line 2180: expected 9 fields, saw 10\\nSkipping line 2181: expected 9 fields, saw 10\\nSkipping line 2182: expected 9 fields, saw 10\\nSkipping line 2183: expected 9 fields, saw 10\\nSkipping line 2184: expected 9 fields, saw 10\\nSkipping line 2185: expected 9 fields, saw 10\\nSkipping line 2186: expected 9 fields, saw 10\\nSkipping line 2187: expected 9 fields, saw 10\\nSkipping line 2188: expected 9 fields, saw 10\\nSkipping line 2189: expected 9 fields, saw 10\\n'\n"
     ]
    }
   ],
   "source": [
    "df_airlinewise = pd.read_csv(\"Airlinewise Monthly International Air Traffic To And From The Indian Territory.csv\")\n",
    "df_citywise = pd.read_csv(\"Citypairwise Quarterly International  Air Traffic To And From The Indian Territory.csv\", error_bad_lines=False, comment='#')\n",
    "df_countrywise = pd.read_csv(\"Countrywise Quarterly International Air Traffic To And From The Indian Territory.csv\")"
   ]
  },
  {
   "cell_type": "code",
   "execution_count": 172,
   "metadata": {},
   "outputs": [
    {
     "data": {
      "text/html": [
       "<div>\n",
       "<style scoped>\n",
       "    .dataframe tbody tr th:only-of-type {\n",
       "        vertical-align: middle;\n",
       "    }\n",
       "\n",
       "    .dataframe tbody tr th {\n",
       "        vertical-align: top;\n",
       "    }\n",
       "\n",
       "    .dataframe thead th {\n",
       "        text-align: right;\n",
       "    }\n",
       "</style>\n",
       "<table border=\"1\" class=\"dataframe\">\n",
       "  <thead>\n",
       "    <tr style=\"text-align: right;\">\n",
       "      <th></th>\n",
       "      <th>YEAR</th>\n",
       "      <th>MONTH</th>\n",
       "      <th>QUARTER</th>\n",
       "      <th>AIRLINE NAME</th>\n",
       "      <th>CARRIER TYPE</th>\n",
       "      <th>PASSENGERS TO INDIA</th>\n",
       "      <th>PASSENGERS FROM INDIA</th>\n",
       "      <th>FREIGHT TO INDIA</th>\n",
       "      <th>FREIGHT FROM INDIA</th>\n",
       "    </tr>\n",
       "  </thead>\n",
       "  <tbody>\n",
       "    <tr>\n",
       "      <td>1823</td>\n",
       "      <td>2016</td>\n",
       "      <td>OCT</td>\n",
       "      <td>Q4</td>\n",
       "      <td>KENYA AIRWAYS</td>\n",
       "      <td>FOREIGN</td>\n",
       "      <td>6152.0</td>\n",
       "      <td>5030</td>\n",
       "      <td>8.900</td>\n",
       "      <td>7.600</td>\n",
       "    </tr>\n",
       "    <tr>\n",
       "      <td>180</td>\n",
       "      <td>2015</td>\n",
       "      <td>MAR</td>\n",
       "      <td>Q1</td>\n",
       "      <td>AIR ASTANA</td>\n",
       "      <td>FOREIGN</td>\n",
       "      <td>1995.0</td>\n",
       "      <td>2681</td>\n",
       "      <td>5.141</td>\n",
       "      <td>31.392</td>\n",
       "    </tr>\n",
       "    <tr>\n",
       "      <td>425</td>\n",
       "      <td>2015</td>\n",
       "      <td>JUN</td>\n",
       "      <td>Q2</td>\n",
       "      <td>ALL NIPPON AIRWAYS</td>\n",
       "      <td>FOREIGN</td>\n",
       "      <td>651.0</td>\n",
       "      <td>5900</td>\n",
       "      <td>351.637</td>\n",
       "      <td>393.629</td>\n",
       "    </tr>\n",
       "    <tr>\n",
       "      <td>908</td>\n",
       "      <td>2015</td>\n",
       "      <td>DEC</td>\n",
       "      <td>Q4</td>\n",
       "      <td>AEROLOGIC</td>\n",
       "      <td>FOREIGN</td>\n",
       "      <td>0.0</td>\n",
       "      <td>0</td>\n",
       "      <td>1.975</td>\n",
       "      <td>1.575</td>\n",
       "    </tr>\n",
       "    <tr>\n",
       "      <td>584</td>\n",
       "      <td>2015</td>\n",
       "      <td>AUG</td>\n",
       "      <td>Q3</td>\n",
       "      <td>AIR MAURITIUS</td>\n",
       "      <td>FOREIGN</td>\n",
       "      <td>5185.0</td>\n",
       "      <td>6114</td>\n",
       "      <td>9.904</td>\n",
       "      <td>211.413</td>\n",
       "    </tr>\n",
       "    <tr>\n",
       "      <td>2304</td>\n",
       "      <td>2017</td>\n",
       "      <td>MAR</td>\n",
       "      <td>Q1</td>\n",
       "      <td>OMAN AIR</td>\n",
       "      <td>FOREIGN</td>\n",
       "      <td>76449.0</td>\n",
       "      <td>81312</td>\n",
       "      <td>119.100</td>\n",
       "      <td>1432.500</td>\n",
       "    </tr>\n",
       "    <tr>\n",
       "      <td>1820</td>\n",
       "      <td>2016</td>\n",
       "      <td>OCT</td>\n",
       "      <td>Q4</td>\n",
       "      <td>JAPAN AIRLINES</td>\n",
       "      <td>FOREIGN</td>\n",
       "      <td>3546.0</td>\n",
       "      <td>3519</td>\n",
       "      <td>373.500</td>\n",
       "      <td>108.100</td>\n",
       "    </tr>\n",
       "    <tr>\n",
       "      <td>1144</td>\n",
       "      <td>2016</td>\n",
       "      <td>FEB</td>\n",
       "      <td>Q1</td>\n",
       "      <td>SWISS AIR</td>\n",
       "      <td>FOREIGN</td>\n",
       "      <td>10461.0</td>\n",
       "      <td>11690</td>\n",
       "      <td>784.700</td>\n",
       "      <td>524.000</td>\n",
       "    </tr>\n",
       "    <tr>\n",
       "      <td>1082</td>\n",
       "      <td>2016</td>\n",
       "      <td>FEB</td>\n",
       "      <td>Q1</td>\n",
       "      <td>AIR ASIA BERHAD</td>\n",
       "      <td>FOREIGN</td>\n",
       "      <td>30677.0</td>\n",
       "      <td>31080</td>\n",
       "      <td>58.400</td>\n",
       "      <td>230.600</td>\n",
       "    </tr>\n",
       "    <tr>\n",
       "      <td>2043</td>\n",
       "      <td>2016</td>\n",
       "      <td>DEC</td>\n",
       "      <td>Q4</td>\n",
       "      <td>UNITED AIRLINES</td>\n",
       "      <td>FOREIGN</td>\n",
       "      <td>14512.0</td>\n",
       "      <td>14517</td>\n",
       "      <td>215.300</td>\n",
       "      <td>272.900</td>\n",
       "    </tr>\n",
       "    <tr>\n",
       "      <td>1696</td>\n",
       "      <td>2016</td>\n",
       "      <td>SEP</td>\n",
       "      <td>Q3</td>\n",
       "      <td>AIR AUSTRAL</td>\n",
       "      <td>FOREIGN</td>\n",
       "      <td>132.0</td>\n",
       "      <td>138</td>\n",
       "      <td>3.600</td>\n",
       "      <td>1.500</td>\n",
       "    </tr>\n",
       "    <tr>\n",
       "      <td>2124</td>\n",
       "      <td>2017</td>\n",
       "      <td>JAN</td>\n",
       "      <td>Q1</td>\n",
       "      <td>SILK AIR</td>\n",
       "      <td>FOREIGN</td>\n",
       "      <td>20680.0</td>\n",
       "      <td>30583</td>\n",
       "      <td>117.600</td>\n",
       "      <td>242.500</td>\n",
       "    </tr>\n",
       "    <tr>\n",
       "      <td>449</td>\n",
       "      <td>2015</td>\n",
       "      <td>JUN</td>\n",
       "      <td>Q2</td>\n",
       "      <td>GULF AIR</td>\n",
       "      <td>FOREIGN</td>\n",
       "      <td>37508.0</td>\n",
       "      <td>31030</td>\n",
       "      <td>95.262</td>\n",
       "      <td>728.488</td>\n",
       "    </tr>\n",
       "    <tr>\n",
       "      <td>956</td>\n",
       "      <td>2015</td>\n",
       "      <td>DEC</td>\n",
       "      <td>Q4</td>\n",
       "      <td>MALAYSIA AIRLINES</td>\n",
       "      <td>FOREIGN</td>\n",
       "      <td>34098.0</td>\n",
       "      <td>31735</td>\n",
       "      <td>948.546</td>\n",
       "      <td>914.003</td>\n",
       "    </tr>\n",
       "    <tr>\n",
       "      <td>155</td>\n",
       "      <td>2015</td>\n",
       "      <td>FEB</td>\n",
       "      <td>Q1</td>\n",
       "      <td>THAI AIRWAYS</td>\n",
       "      <td>FOREIGN</td>\n",
       "      <td>47031.0</td>\n",
       "      <td>53463</td>\n",
       "      <td>2472.163</td>\n",
       "      <td>1998.694</td>\n",
       "    </tr>\n",
       "    <tr>\n",
       "      <td>1917</td>\n",
       "      <td>2016</td>\n",
       "      <td>NOV</td>\n",
       "      <td>Q4</td>\n",
       "      <td>KOREAN AIR</td>\n",
       "      <td>FOREIGN</td>\n",
       "      <td>2351.0</td>\n",
       "      <td>1815</td>\n",
       "      <td>62.600</td>\n",
       "      <td>54.600</td>\n",
       "    </tr>\n",
       "    <tr>\n",
       "      <td>127</td>\n",
       "      <td>2015</td>\n",
       "      <td>FEB</td>\n",
       "      <td>Q1</td>\n",
       "      <td>ISLAND AVIATION SERVICES</td>\n",
       "      <td>FOREIGN</td>\n",
       "      <td>2703.0</td>\n",
       "      <td>2569</td>\n",
       "      <td>3.027</td>\n",
       "      <td>53.392</td>\n",
       "    </tr>\n",
       "    <tr>\n",
       "      <td>458</td>\n",
       "      <td>2015</td>\n",
       "      <td>JUN</td>\n",
       "      <td>Q2</td>\n",
       "      <td>KOREAN AIR</td>\n",
       "      <td>FOREIGN</td>\n",
       "      <td>2079.0</td>\n",
       "      <td>2019</td>\n",
       "      <td>65.055</td>\n",
       "      <td>124.068</td>\n",
       "    </tr>\n",
       "    <tr>\n",
       "      <td>1548</td>\n",
       "      <td>2016</td>\n",
       "      <td>JUL</td>\n",
       "      <td>Q3</td>\n",
       "      <td>EVA AIRWAYS</td>\n",
       "      <td>FOREIGN</td>\n",
       "      <td>0.0</td>\n",
       "      <td>0</td>\n",
       "      <td>0.000</td>\n",
       "      <td>0.000</td>\n",
       "    </tr>\n",
       "    <tr>\n",
       "      <td>182</td>\n",
       "      <td>2015</td>\n",
       "      <td>MAR</td>\n",
       "      <td>Q1</td>\n",
       "      <td>ALL NIPPON AIRWAYS</td>\n",
       "      <td>FOREIGN</td>\n",
       "      <td>4687.0</td>\n",
       "      <td>6388</td>\n",
       "      <td>186.544</td>\n",
       "      <td>410.312</td>\n",
       "    </tr>\n",
       "  </tbody>\n",
       "</table>\n",
       "</div>"
      ],
      "text/plain": [
       "      YEAR MONTH QUARTER              AIRLINE NAME CARRIER TYPE  \\\n",
       "1823  2016   OCT      Q4             KENYA AIRWAYS      FOREIGN   \n",
       "180   2015   MAR      Q1                AIR ASTANA      FOREIGN   \n",
       "425   2015   JUN      Q2        ALL NIPPON AIRWAYS      FOREIGN   \n",
       "908   2015   DEC      Q4                 AEROLOGIC      FOREIGN   \n",
       "584   2015   AUG      Q3             AIR MAURITIUS      FOREIGN   \n",
       "2304  2017   MAR      Q1                  OMAN AIR      FOREIGN   \n",
       "1820  2016   OCT      Q4            JAPAN AIRLINES      FOREIGN   \n",
       "1144  2016   FEB      Q1                 SWISS AIR      FOREIGN   \n",
       "1082  2016   FEB      Q1           AIR ASIA BERHAD      FOREIGN   \n",
       "2043  2016   DEC      Q4           UNITED AIRLINES      FOREIGN   \n",
       "1696  2016   SEP      Q3               AIR AUSTRAL      FOREIGN   \n",
       "2124  2017   JAN      Q1                  SILK AIR      FOREIGN   \n",
       "449   2015   JUN      Q2                  GULF AIR      FOREIGN   \n",
       "956   2015   DEC      Q4         MALAYSIA AIRLINES      FOREIGN   \n",
       "155   2015   FEB      Q1              THAI AIRWAYS      FOREIGN   \n",
       "1917  2016   NOV      Q4                KOREAN AIR      FOREIGN   \n",
       "127   2015   FEB      Q1  ISLAND AVIATION SERVICES      FOREIGN   \n",
       "458   2015   JUN      Q2                KOREAN AIR      FOREIGN   \n",
       "1548  2016   JUL      Q3               EVA AIRWAYS      FOREIGN   \n",
       "182   2015   MAR      Q1        ALL NIPPON AIRWAYS      FOREIGN   \n",
       "\n",
       "      PASSENGERS TO INDIA  PASSENGERS FROM INDIA  FREIGHT TO INDIA  \\\n",
       "1823               6152.0                   5030             8.900   \n",
       "180                1995.0                   2681             5.141   \n",
       "425                 651.0                   5900           351.637   \n",
       "908                   0.0                      0             1.975   \n",
       "584                5185.0                   6114             9.904   \n",
       "2304              76449.0                  81312           119.100   \n",
       "1820               3546.0                   3519           373.500   \n",
       "1144              10461.0                  11690           784.700   \n",
       "1082              30677.0                  31080            58.400   \n",
       "2043              14512.0                  14517           215.300   \n",
       "1696                132.0                    138             3.600   \n",
       "2124              20680.0                  30583           117.600   \n",
       "449               37508.0                  31030            95.262   \n",
       "956               34098.0                  31735           948.546   \n",
       "155               47031.0                  53463          2472.163   \n",
       "1917               2351.0                   1815            62.600   \n",
       "127                2703.0                   2569             3.027   \n",
       "458                2079.0                   2019            65.055   \n",
       "1548                  0.0                      0             0.000   \n",
       "182                4687.0                   6388           186.544   \n",
       "\n",
       "      FREIGHT FROM INDIA  \n",
       "1823               7.600  \n",
       "180               31.392  \n",
       "425              393.629  \n",
       "908                1.575  \n",
       "584              211.413  \n",
       "2304            1432.500  \n",
       "1820             108.100  \n",
       "1144             524.000  \n",
       "1082             230.600  \n",
       "2043             272.900  \n",
       "1696               1.500  \n",
       "2124             242.500  \n",
       "449              728.488  \n",
       "956              914.003  \n",
       "155             1998.694  \n",
       "1917              54.600  \n",
       "127               53.392  \n",
       "458              124.068  \n",
       "1548               0.000  \n",
       "182              410.312  "
      ]
     },
     "execution_count": 172,
     "metadata": {},
     "output_type": "execute_result"
    }
   ],
   "source": [
    "df_airlinewise.sample(20)"
   ]
  },
  {
   "cell_type": "code",
   "execution_count": 28,
   "metadata": {},
   "outputs": [
    {
     "data": {
      "image/png": "[encoded data removed]",
      "text/plain": [
       "<Figure size 432x288 with 1 Axes>"
      ]
     },
     "metadata": {
      "needs_background": "light"
     },
     "output_type": "display_data"
    }
   ],
   "source": [
    "status_vals = df_airlinewise['CARRIER TYPE'].value_counts()\n",
    "(status_vals/df_airlinewise.shape[0]).plot(kind=\"bar\");\n",
    "plt.title(\"Foreign vs Domestic\");"
   ]
  },
  {
   "cell_type": "code",
   "execution_count": 159,
   "metadata": {},
   "outputs": [],
   "source": [
    "month_set = set()\n",
    "for i in range(len(df_airlinewise)):\n",
    "    month_set.add(df_airlinewise.loc[i, \"MONTH\"])"
   ]
  },
  {
   "cell_type": "code",
   "execution_count": 175,
   "metadata": {},
   "outputs": [
    {
     "name": "stdout",
     "output_type": "stream",
     "text": [
      "   MONTH  Number of Passengers\n",
      "7    DEC             4528867.0\n",
      "4    JAN             4315723.0\n",
      "1    MAY             4266411.0\n",
      "6    AUG             4076385.0\n",
      "8    OCT             4054073.0\n",
      "5    NOV             4040133.0\n",
      "3    MAR             4026224.0\n",
      "10   JUL             3971642.0\n",
      "2    JUN             3969443.0\n",
      "0    APR             3917489.0\n",
      "9    FEB             3746648.0\n",
      "11   SEP             3727558.0\n"
     ]
    }
   ],
   "source": [
    "passenger_in_month= {}\n",
    "sum = 0\n",
    "for i in month_set:\n",
    "    df_airlinewise2 = df_airlinewise.loc[df_airlinewise[\"YEAR\"]== 2015, [\"MONTH\", \"PASSENGERS FROM INDIA\", \"PASSENGERS TO INDIA\"]]\n",
    "    df_airlinewise2 = df_airlinewise2.loc[df_airlinewise[\"MONTH\"]== i, [\"PASSENGERS FROM INDIA\", \"PASSENGERS TO INDIA\"]]\n",
    "    df_airlinewise2[\"PASSENGERS\"] = df_airlinewise2[\"PASSENGERS TO INDIA\"] + df_airlinewise2[\"PASSENGERS FROM INDIA\"]\n",
    "    passenger_in_month[i] = np.sum(df_airlinewise2[\"PASSENGERS\"])\n",
    "\n",
    "df_airlinewise2 = pd.DataFrame(passenger_in_month.items(), columns = [\"MONTH\", \"Number of Passengers\"])\n",
    "df_airlinewise2 = df_airlinewise2.sort_values(\"Number of Passengers\", ascending = False)\n",
    "print(df_airlinewise2)"
   ]
  },
  {
   "cell_type": "code",
   "execution_count": 176,
   "metadata": {},
   "outputs": [
    {
     "data": {
      "text/plain": [
       "Text(0, 0.5, 'Number of international passengers')"
      ]
     },
     "execution_count": 176,
     "metadata": {},
     "output_type": "execute_result"
    },
    {
     "data": {
      "image/png": "[encoded data removed]",
      "text/plain": [
       "<Figure size 432x288 with 1 Axes>"
      ]
     },
     "metadata": {
      "needs_background": "light"
     },
     "output_type": "display_data"
    }
   ],
   "source": [
    "plt.plot(df_airlinewise2[\"MONTH\"], df_airlinewise2[\"Number of Passengers\"], color= 'm')\n",
    "plt.title(\"Monthwise Passengers\")\n",
    "plt.xlabel(\"Months\")\n",
    "plt.ylabel(\"Number of international passengers\")"
   ]
  },
  {
   "cell_type": "code",
   "execution_count": 173,
   "metadata": {},
   "outputs": [
    {
     "name": "stdout",
     "output_type": "stream",
     "text": [
      "   MONTH  Number of Passengers\n",
      "7    DEC             5021776.0\n",
      "4    JAN             4685320.0\n",
      "1    MAY             4644549.0\n",
      "10   JUL             4556844.0\n",
      "5    NOV             4512705.0\n",
      "6    AUG             4491752.0\n",
      "3    MAR             4432430.0\n",
      "0    APR             4334523.0\n",
      "2    JUN             4317921.0\n",
      "8    OCT             4294796.0\n",
      "11   SEP             4269781.0\n",
      "9    FEB             4097068.0\n"
     ]
    }
   ],
   "source": [
    "passenger_in_month= {}\n",
    "sum = 0\n",
    "for i in month_set:\n",
    "    df_airlinewise2 = df_airlinewise.loc[df_airlinewise[\"YEAR\"]== 2016, [\"MONTH\", \"PASSENGERS FROM INDIA\", \"PASSENGERS TO INDIA\"]]\n",
    "    df_airlinewise2 = df_airlinewise2.loc[df_airlinewise[\"MONTH\"]== i, [\"PASSENGERS FROM INDIA\", \"PASSENGERS TO INDIA\"]]\n",
    "    df_airlinewise2[\"PASSENGERS\"] = df_airlinewise2[\"PASSENGERS TO INDIA\"] + df_airlinewise2[\"PASSENGERS FROM INDIA\"]\n",
    "    passenger_in_month[i] = np.sum(df_airlinewise2[\"PASSENGERS\"])\n",
    "\n",
    "df_airlinewise2 = pd.DataFrame(passenger_in_month.items(), columns = [\"MONTH\", \"Number of Passengers\"])\n",
    "df_airlinewise2 = df_airlinewise2.sort_values(\"Number of Passengers\", ascending = False)\n",
    "print(df_airlinewise2)"
   ]
  },
  {
   "cell_type": "code",
   "execution_count": 174,
   "metadata": {},
   "outputs": [
    {
     "data": {
      "text/plain": [
       "Text(0, 0.5, 'Number of international passengers')"
      ]
     },
     "execution_count": 174,
     "metadata": {},
     "output_type": "execute_result"
    },
    {
     "data": {
      "image/png": "[encoded data removed]",
      "text/plain": [
       "<Figure size 432x288 with 1 Axes>"
      ]
     },
     "metadata": {
      "needs_background": "light"
     },
     "output_type": "display_data"
    }
   ],
   "source": [
    "plt.plot(df_airlinewise2[\"MONTH\"], df_airlinewise2[\"Number of Passengers\"], color= 'g')\n",
    "plt.title(\"Monthwise Passengers\")\n",
    "plt.xlabel(\"Months\")\n",
    "plt.ylabel(\"Number of international passengers\")"
   ]
  },
  {
   "cell_type": "code",
   "execution_count": 53,
   "metadata": {},
   "outputs": [
    {
     "data": {
      "image/png": "[encoded data removed]",
      "text/plain": [
       "<Figure size 432x288 with 1 Axes>"
      ]
     },
     "metadata": {
      "needs_background": "light"
     },
     "output_type": "display_data"
    }
   ],
   "source": [
    "plt.plot(df_airlinewise['PASSENGERS FROM INDIA'], df_airlinewise['PASSENGERS TO INDIA'], color = \"green\")\n",
    "# naming the x axis \n",
    "plt.xlabel('Passengers from India') \n",
    "# naming the y axis \n",
    "plt.ylabel('Passengers to India') \n",
    "  \n",
    "# giving a title to my graph \n",
    "plt.title('Passengers movement direction') \n",
    "  \n",
    "# function to show the plot \n",
    "plt.show() "
   ]
  },
  {
   "cell_type": "code",
   "execution_count": 58,
   "metadata": {},
   "outputs": [
    {
     "data": {
      "text/html": [
       "<div>\n",
       "<style scoped>\n",
       "    .dataframe tbody tr th:only-of-type {\n",
       "        vertical-align: middle;\n",
       "    }\n",
       "\n",
       "    .dataframe tbody tr th {\n",
       "        vertical-align: top;\n",
       "    }\n",
       "\n",
       "    .dataframe thead th {\n",
       "        text-align: right;\n",
       "    }\n",
       "</style>\n",
       "<table border=\"1\" class=\"dataframe\">\n",
       "  <thead>\n",
       "    <tr style=\"text-align: right;\">\n",
       "      <th></th>\n",
       "      <th>YEAR</th>\n",
       "      <th>QUARTER</th>\n",
       "      <th>COUNTRY NAME</th>\n",
       "      <th>PASSENGERS TO INDIA</th>\n",
       "      <th>PASSENGERS FROM INDIA</th>\n",
       "      <th>FREIGHT TO INDIA</th>\n",
       "      <th>FREIGHT FROM INDIA</th>\n",
       "    </tr>\n",
       "  </thead>\n",
       "  <tbody>\n",
       "    <tr>\n",
       "      <td>0</td>\n",
       "      <td>2015</td>\n",
       "      <td>Q1</td>\n",
       "      <td>AFGHANISTAN</td>\n",
       "      <td>37194</td>\n",
       "      <td>32721</td>\n",
       "      <td>96.7</td>\n",
       "      <td>676.4</td>\n",
       "    </tr>\n",
       "    <tr>\n",
       "      <td>1</td>\n",
       "      <td>2015</td>\n",
       "      <td>Q1</td>\n",
       "      <td>AUSTRALIA</td>\n",
       "      <td>16676</td>\n",
       "      <td>19075</td>\n",
       "      <td>89.7</td>\n",
       "      <td>423.7</td>\n",
       "    </tr>\n",
       "    <tr>\n",
       "      <td>2</td>\n",
       "      <td>2015</td>\n",
       "      <td>Q1</td>\n",
       "      <td>AUSTRIA</td>\n",
       "      <td>13318</td>\n",
       "      <td>15529</td>\n",
       "      <td>563.8</td>\n",
       "      <td>707.0</td>\n",
       "    </tr>\n",
       "    <tr>\n",
       "      <td>3</td>\n",
       "      <td>2015</td>\n",
       "      <td>Q1</td>\n",
       "      <td>BAHRAIN</td>\n",
       "      <td>114087</td>\n",
       "      <td>133527</td>\n",
       "      <td>585.7</td>\n",
       "      <td>1909.5</td>\n",
       "    </tr>\n",
       "    <tr>\n",
       "      <td>4</td>\n",
       "      <td>2015</td>\n",
       "      <td>Q1</td>\n",
       "      <td>BANGLADESH</td>\n",
       "      <td>76357</td>\n",
       "      <td>75673</td>\n",
       "      <td>624.1</td>\n",
       "      <td>1052.9</td>\n",
       "    </tr>\n",
       "  </tbody>\n",
       "</table>\n",
       "</div>"
      ],
      "text/plain": [
       "   YEAR QUARTER COUNTRY NAME  PASSENGERS TO INDIA  PASSENGERS FROM INDIA  \\\n",
       "0  2015      Q1  AFGHANISTAN                37194                  32721   \n",
       "1  2015      Q1    AUSTRALIA                16676                  19075   \n",
       "2  2015      Q1      AUSTRIA                13318                  15529   \n",
       "3  2015      Q1      BAHRAIN               114087                 133527   \n",
       "4  2015      Q1   BANGLADESH                76357                  75673   \n",
       "\n",
       "   FREIGHT TO INDIA  FREIGHT FROM INDIA  \n",
       "0              96.7               676.4  \n",
       "1              89.7               423.7  \n",
       "2             563.8               707.0  \n",
       "3             585.7              1909.5  \n",
       "4             624.1              1052.9  "
      ]
     },
     "execution_count": 58,
     "metadata": {},
     "output_type": "execute_result"
    }
   ],
   "source": [
    "df_countrywise.head()"
   ]
  },
  {
   "cell_type": "code",
   "execution_count": 79,
   "metadata": {},
   "outputs": [
    {
     "data": {
      "text/plain": [
       "323166"
      ]
     },
     "execution_count": 79,
     "metadata": {},
     "output_type": "execute_result"
    }
   ],
   "source": [
    "df_countrywise2 = df_countrywise.loc[df_countrywise[\"COUNTRY NAME\"]== \"AUSTRALIA\", [\"PASSENGERS FROM INDIA\", \"PASSENGERS TO INDIA\"]]\n",
    "df_countrywise2[\"PASSENGERS\"] = df_countrywise2[\"PASSENGERS TO INDIA\"] + df_countrywise2[\"PASSENGERS FROM INDIA\"]\n",
    "np.sum(df_countrywise2[\"PASSENGERS\"])"
   ]
  },
  {
   "cell_type": "code",
   "execution_count": 84,
   "metadata": {},
   "outputs": [
    {
     "name": "stdout",
     "output_type": "stream",
     "text": [
      "{'BURMA', 'YEMEN', 'BHUTAN', 'JORDAN', 'JAPAN', 'KAZAKHSTAN', 'IRAQ', 'ITALY', 'EGYPT', 'NEPAL', 'RUSSIA', 'TURKEY', 'UNITED KINGDOM', 'BAHRAIN', 'KUWAIT', 'SINGAPORE', 'AZERBAIJAN', 'KYRGYZSTAN', 'HONG KONG', 'UNITED STATES', 'TURKMENISTAN', 'ISRAEL', 'SOUTH AFRICA', 'UNITED ARAB EMIRATES*', 'UNITED ARAB EMIRATES', 'VIETNAM', 'AFGHANISTAN', 'IRAN', 'FRANCE', 'AUSTRALIA', 'UZBEKISTAN', 'SPAIN', 'GEORGIA', 'QATAR', 'SEYCHELLES', 'MALDIVES', 'CANADA', 'BANGLADESH', 'SWITZERLAND', 'SAUDI ARABIA', 'TAJIKISTAN', 'OMAN', 'ETHIOPIA', 'REUNION', 'KOREA', 'NETHERLANDS', 'THAILAND', 'TAIWAN', 'SRI LANKA', 'INDONESIA', 'MAURITIUS', 'GERMANY', 'FINLAND', 'KENYA', 'PAKISTAN', 'BELGIUM', 'CHINA', 'MALAYSIA', 'AUSTRIA'}\n"
     ]
    }
   ],
   "source": [
    "country_set = set()\n",
    "for i in range(len(df_countrywise)):\n",
    "    country_set.add(df_countrywise.loc[i, \"COUNTRY NAME\"])"
   ]
  },
  {
   "cell_type": "code",
   "execution_count": 120,
   "metadata": {},
   "outputs": [
    {
     "name": "stdout",
     "output_type": "stream",
     "text": [
      "                  Country  Number of Passengers\n",
      "23  UNITED ARAB EMIRATES*              30444114\n",
      "24   UNITED ARAB EMIRATES               8654675\n",
      "15              SINGAPORE               7814358\n",
      "39           SAUDI ARABIA               7153859\n",
      "33                  QATAR               6322916\n",
      "46               THAILAND               6180607\n",
      "41                   OMAN               6104693\n",
      "12         UNITED KINGDOM               5654134\n",
      "57               MALAYSIA               4809196\n",
      "48              SRI LANKA               4473928\n",
      "18              HONG KONG               3168560\n",
      "51                GERMANY               2914314\n",
      "13                BAHRAIN               2382658\n",
      "14                 KUWAIT               2210700\n",
      "19          UNITED STATES               2041033\n",
      "9                   NEPAL               1819218\n",
      "28                 FRANCE               1590012\n",
      "37             BANGLADESH               1533982\n",
      "56                  CHINA               1311229\n",
      "11                 TURKEY                945755\n",
      "45            NETHERLANDS                842307\n",
      "4                   JAPAN                707913\n",
      "38            SWITZERLAND                645328\n",
      "10                 RUSSIA                634683\n",
      "26            AFGHANISTAN                558252\n",
      "35               MALDIVES                533480\n",
      "36                 CANADA                441142\n",
      "42               ETHIOPIA                433253\n",
      "50              MAURITIUS                413502\n",
      "44                  KOREA                393108\n",
      "53                  KENYA                387046\n",
      "7                   ITALY                329286\n",
      "29              AUSTRALIA                323166\n",
      "30             UZBEKISTAN                229452\n",
      "55                BELGIUM                218441\n",
      "52                FINLAND                200380\n",
      "58                AUSTRIA                197660\n",
      "2                  BHUTAN                188569\n",
      "20           TURKMENISTAN                186010\n",
      "5              KAZAKHSTAN                161255\n",
      "27                   IRAN                159181\n",
      "21                 ISRAEL                127563\n",
      "0                   BURMA                126177\n",
      "34             SEYCHELLES                108689\n",
      "47                 TAIWAN                108076\n",
      "54               PAKISTAN                 71958\n",
      "8                   EGYPT                 69590\n",
      "17             KYRGYZSTAN                 43174\n",
      "1                   YEMEN                 23656\n",
      "22           SOUTH AFRICA                 20399\n",
      "6                    IRAQ                 18752\n",
      "16             AZERBAIJAN                 17014\n",
      "31                  SPAIN                 16691\n",
      "40             TAJIKISTAN                 16460\n",
      "25                VIETNAM                 14769\n",
      "43                REUNION                 11898\n",
      "49              INDONESIA                  8490\n",
      "32                GEORGIA                     0\n",
      "3                  JORDAN                     0\n"
     ]
    }
   ],
   "source": [
    "passenger_country= {}\n",
    "sum = 0\n",
    "for i in country_set:\n",
    "    df_countrywise2 = df_countrywise.loc[df_countrywise[\"COUNTRY NAME\"]== i, [\"PASSENGERS FROM INDIA\", \"PASSENGERS TO INDIA\"]]\n",
    "    df_countrywise2[\"PASSENGERS\"] = df_countrywise2[\"PASSENGERS TO INDIA\"] + df_countrywise2[\"PASSENGERS FROM INDIA\"]\n",
    "    passenger_country[i] = np.sum(df_countrywise2[\"PASSENGERS\"])\n",
    "\n",
    "df_countrywise2 = pd.DataFrame(passenger_country.items(), columns = [\"Country\", \"Number of Passengers\"])\n",
    "df_countrywise2 = df_countrywise2.sort_values(\"Number of Passengers\", ascending = False)"
   ]
  },
  {
   "cell_type": "code",
   "execution_count": 125,
   "metadata": {},
   "outputs": [],
   "source": [
    "df_countrywise2 = df_countrywise2.iloc[:9]"
   ]
  },
  {
   "cell_type": "code",
   "execution_count": 151,
   "metadata": {},
   "outputs": [
    {
     "data": {
      "image/png": "[encoded data removed]",
      "text/plain": [
       "<Figure size 432x288 with 1 Axes>"
      ]
     },
     "metadata": {},
     "output_type": "display_data"
    }
   ],
   "source": [
    "colors = ['b', 'g', 'r', 'c', 'm', 'y', 'k', '#aeffee','#aabcda']\n",
    "explode = (0.2, 0, 0, 0, 0, 0)\n",
    "plt.pie(df_countrywise2['Number of Passengers'], colors=colors, labels=df_countrywise2['Number of Passengers'],counterclock=False, shadow=True)\n",
    "plt.title('Indian travellers Countrywise')\n",
    "plt.legend(df_countrywise2['Country'], loc = \"upper left\", bbox_to_anchor=(1.2,1.025))\n",
    "plt.show()"
   ]
  },
  {
   "cell_type": "code",
   "execution_count": null,
   "metadata": {},
   "outputs": [],
   "source": []
  }
 ],
 "metadata": {
  "kernelspec": {
   "display_name": "Python 3",
   "language": "python",
   "name": "python3"
  },
  "language_info": {
   "codemirror_mode": {
    "name": "ipython",
    "version": 3
   },
   "file_extension": ".py",
   "mimetype": "text/x-python",
   "name": "python",
   "nbconvert_exporter": "python",
   "pygments_lexer": "ipython3",
   "version": "3.7.4"
  }
 },
 "nbformat": 4,
 "nbformat_minor": 2
}
